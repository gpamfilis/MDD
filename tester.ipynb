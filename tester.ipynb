{
 "cells": [
  {
   "cell_type": "code",
   "execution_count": 42,
   "metadata": {
    "collapsed": true
   },
   "outputs": [],
   "source": [
    "import pandas as pd\n",
    "import numpy as np\n",
    "import re, os"
   ]
  },
  {
   "cell_type": "code",
   "execution_count": null,
   "metadata": {
    "collapsed": true
   },
   "outputs": [],
   "source": []
  },
  {
   "cell_type": "code",
   "execution_count": 124,
   "metadata": {
    "collapsed": false
   },
   "outputs": [],
   "source": [
    "def convert_to_csv_format():\n",
    "    stations = os.listdir('./data')\n",
    "    for station in stations:\n",
    "        dates = os.listdir('./data/' + station)\n",
    "        for date in dates:\n",
    "            f = open('./data/' + station + '/' + date, encoding='cp737')\n",
    "            lines = f.readlines()\n",
    "            f.close()\n",
    "            new_line =[]\n",
    "            for i, line in enumerate(lines):\n",
    "                a = line.split(' ')\n",
    "                a = list(filter(lambda a: a != '', a))\n",
    "                a[-1] = a[-1][:-1]\n",
    "                if len(a)<13:\n",
    "                    for i in range(13-len(a)):\n",
    "                        a.append(np.nan)\n",
    "                new_line.append(a)\n",
    "\n",
    "#                 lines[i] = a\n",
    "            for j, l in enumerate(new_line):\n",
    "                lines[j] = l\n",
    "            f = open('./data/' + station + '/' + date,'w', encoding='cp737')\n",
    "            for t in lines:\n",
    "                f.writelines(str(t))\n",
    "            f.close()   "
   ]
  },
  {
   "cell_type": "code",
   "execution_count": 125,
   "metadata": {
    "collapsed": false
   },
   "outputs": [],
   "source": [
    "convert_to_csv_format();"
   ]
  },
  {
   "cell_type": "code",
   "execution_count": 126,
   "metadata": {
    "collapsed": true
   },
   "outputs": [],
   "source": [
    "f = open('./data/aghiosnikolaos/aghiosnikolaos-2009-11.txt')"
   ]
  },
  {
   "cell_type": "code",
   "execution_count": 127,
   "metadata": {
    "collapsed": false
   },
   "outputs": [],
   "source": [
    "lines = f.readlines()\n",
    "f.close()"
   ]
  },
  {
   "cell_type": "code",
   "execution_count": 162,
   "metadata": {
    "collapsed": false
   },
   "outputs": [],
   "source": [
    "a = lines[0].strip().split(\"\\t\")[0].replace('  ',',')"
   ]
  },
  {
   "cell_type": "code",
   "execution_count": 164,
   "metadata": {
    "collapsed": false
   },
   "outputs": [
    {
     "data": {
      "text/plain": [
       "True"
      ]
     },
     "execution_count": 164,
     "metadata": {},
     "output_type": "execute_result"
    }
   ],
   "source": [
    "a.replace()"
   ]
  },
  {
   "cell_type": "code",
   "execution_count": 136,
   "metadata": {
    "collapsed": true
   },
   "outputs": [],
   "source": [
    "a = lines[0].split(' ')"
   ]
  },
  {
   "cell_type": "code",
   "execution_count": 141,
   "metadata": {
    "collapsed": false
   },
   "outputs": [],
   "source": [
    "a = list(filter(('').__ne__, a))\n",
    "a[-1] = a[-1][:-1]"
   ]
  },
  {
   "cell_type": "code",
   "execution_count": 144,
   "metadata": {
    "collapsed": false
   },
   "outputs": [],
   "source": [
    "a = str(a)"
   ]
  },
  {
   "cell_type": "code",
   "execution_count": 152,
   "metadata": {
    "collapsed": false
   },
   "outputs": [
    {
     "data": {
      "text/plain": [
       "\"['1', '15.4', '17.0', '12:50a', '13.5', '6:50p', '2.9', '0.0', '6.0', '20.0', '57.9', '10:10p', 'NNW']\""
      ]
     },
     "execution_count": 152,
     "metadata": {},
     "output_type": "execute_result"
    }
   ],
   "source": [
    "a"
   ]
  },
  {
   "cell_type": "raw",
   "metadata": {},
   "source": [
    "x = [1,2,3,2,2,2,3,4]\n",
    "list(filter(lambda a: a != '', x))"
   ]
  },
  {
   "cell_type": "code",
   "execution_count": 145,
   "metadata": {
    "collapsed": false
   },
   "outputs": [
    {
     "data": {
      "text/plain": [
       "['[',\n",
       " '1',\n",
       " ',',\n",
       " ' ',\n",
       " '1',\n",
       " '5',\n",
       " '.',\n",
       " '4',\n",
       " ',',\n",
       " ' ',\n",
       " '1',\n",
       " '7',\n",
       " '.',\n",
       " '0',\n",
       " ',',\n",
       " ' ',\n",
       " '1',\n",
       " '2',\n",
       " ':',\n",
       " '5',\n",
       " '0',\n",
       " 'a',\n",
       " ',',\n",
       " ' ',\n",
       " '1',\n",
       " '3',\n",
       " '.',\n",
       " '5',\n",
       " ',',\n",
       " ' ',\n",
       " '6',\n",
       " ':',\n",
       " '5',\n",
       " '0',\n",
       " 'p',\n",
       " ',',\n",
       " ' ',\n",
       " '2',\n",
       " '.',\n",
       " '9',\n",
       " ',',\n",
       " ' ',\n",
       " '0',\n",
       " '.',\n",
       " '0',\n",
       " ',',\n",
       " ' ',\n",
       " '6',\n",
       " '.',\n",
       " '0',\n",
       " ',',\n",
       " ' ',\n",
       " '2',\n",
       " '0',\n",
       " '.',\n",
       " '0',\n",
       " ',',\n",
       " ' ',\n",
       " '5',\n",
       " '7',\n",
       " '.',\n",
       " '9',\n",
       " ',',\n",
       " ' ',\n",
       " '1',\n",
       " '0',\n",
       " ':',\n",
       " '1',\n",
       " '0',\n",
       " 'p',\n",
       " ',',\n",
       " ' ',\n",
       " 'N',\n",
       " 'N',\n",
       " 'W',\n",
       " ']']"
      ]
     },
     "execution_count": 145,
     "metadata": {},
     "output_type": "execute_result"
    }
   ],
   "source": [
    "list(filter(lambda a: a != \"'\", a))"
   ]
  },
  {
   "cell_type": "code",
   "execution_count": 53,
   "metadata": {
    "collapsed": false
   },
   "outputs": [],
   "source": [
    "a = lines[0].split(' ')"
   ]
  },
  {
   "cell_type": "code",
   "execution_count": 54,
   "metadata": {
    "collapsed": false
   },
   "outputs": [],
   "source": [
    "a = list(filter(('').__ne__, a))\n",
    "# a[-1] = a[-1][:-1]"
   ]
  },
  {
   "cell_type": "code",
   "execution_count": 71,
   "metadata": {
    "collapsed": false
   },
   "outputs": [
    {
     "data": {
      "text/plain": [
       "13"
      ]
     },
     "execution_count": 71,
     "metadata": {},
     "output_type": "execute_result"
    }
   ],
   "source": [
    "len(a)"
   ]
  },
  {
   "cell_type": "code",
   "execution_count": 72,
   "metadata": {
    "collapsed": true
   },
   "outputs": [],
   "source": [
    "f = [0,0]"
   ]
  },
  {
   "cell_type": "code",
   "execution_count": 74,
   "metadata": {
    "collapsed": false
   },
   "outputs": [],
   "source": [
    "for i in range(13-len(f)):\n",
    "    f.append(np.nan)"
   ]
  },
  {
   "cell_type": "code",
   "execution_count": 76,
   "metadata": {
    "collapsed": false
   },
   "outputs": [
    {
     "data": {
      "text/plain": [
       "13"
      ]
     },
     "execution_count": 76,
     "metadata": {},
     "output_type": "execute_result"
    }
   ],
   "source": [
    "len(f)"
   ]
  },
  {
   "cell_type": "code",
   "execution_count": null,
   "metadata": {
    "collapsed": true
   },
   "outputs": [],
   "source": []
  },
  {
   "cell_type": "code",
   "execution_count": 64,
   "metadata": {
    "collapsed": false
   },
   "outputs": [],
   "source": [
    "g = lines[3].split(' ')"
   ]
  },
  {
   "cell_type": "code",
   "execution_count": 66,
   "metadata": {
    "collapsed": false
   },
   "outputs": [],
   "source": [
    "g = list(filter(('').__ne__, g))"
   ]
  }
 ],
 "metadata": {
  "kernelspec": {
   "display_name": "Python 3",
   "language": "python",
   "name": "python3"
  },
  "language_info": {
   "codemirror_mode": {
    "name": "ipython",
    "version": 3
   },
   "file_extension": ".py",
   "mimetype": "text/x-python",
   "name": "python",
   "nbconvert_exporter": "python",
   "pygments_lexer": "ipython3",
   "version": "3.4.3"
  }
 },
 "nbformat": 4,
 "nbformat_minor": 0
}
