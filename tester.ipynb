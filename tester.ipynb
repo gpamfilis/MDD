{
 "cells": [
  {
   "cell_type": "code",
   "execution_count": 1,
   "metadata": {
    "collapsed": true
   },
   "outputs": [],
   "source": [
    "import pandas as pd\n",
    "import numpy as np\n",
    "import re, os"
   ]
  },
  {
   "cell_type": "code",
   "execution_count": 4,
   "metadata": {
    "collapsed": false
   },
   "outputs": [],
   "source": [
    "def convert_to_csv_format():\n",
    "    stations = os.listdir('./data')\n",
    "    for station in stations:\n",
    "        print(station)\n",
    "        dates = os.listdir('./data/' + station)\n",
    "        for date in dates:\n",
    "            try:\n",
    "                df = pd.read_csv('./data/' + station + '/' + date, delim_whitespace=1,header=None)\n",
    "                df.to_csv('./data/' + station + '/' + date,header = None,index=None)\n",
    "            except:\n",
    "                for i in np.arange(1,31,1):\n",
    "                    try:\n",
    "                        df = pd.read_csv('./data/' + station + '/' + date, skiprows=i, \n",
    "                                         delim_whitespace=1,header=None)\n",
    "                        df.to_csv('./data/' + station + '/' + date,header = None,index=None)\n",
    "                        break\n",
    "                    except:\n",
    "                        print('complete failure')"
   ]
  },
  {
   "cell_type": "code",
   "execution_count": 7,
   "metadata": {
    "collapsed": true
   },
   "outputs": [],
   "source": [
    "def add_header_to_all():\n",
    "    pass"
   ]
  },
  {
   "cell_type": "code",
   "execution_count": null,
   "metadata": {
    "collapsed": true
   },
   "outputs": [],
   "source": []
  },
  {
   "cell_type": "code",
   "execution_count": null,
   "metadata": {
    "collapsed": true
   },
   "outputs": [],
   "source": []
  }
 ],
 "metadata": {
  "kernelspec": {
   "display_name": "Python 3",
   "language": "python",
   "name": "python3"
  },
  "language_info": {
   "codemirror_mode": {
    "name": "ipython",
    "version": 3
   },
   "file_extension": ".py",
   "mimetype": "text/x-python",
   "name": "python",
   "nbconvert_exporter": "python",
   "pygments_lexer": "ipython3",
   "version": "3.4.3"
  }
 },
 "nbformat": 4,
 "nbformat_minor": 0
}
