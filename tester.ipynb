{
 "cells": [
  {
   "cell_type": "code",
   "execution_count": 49,
   "metadata": {
    "collapsed": true
   },
   "outputs": [],
   "source": [
    "import pandas as pd\n",
    "import numpy as np\n",
    "import re, os"
   ]
  },
  {
   "cell_type": "code",
   "execution_count": 29,
   "metadata": {
    "collapsed": false
   },
   "outputs": [],
   "source": [
    "def convert_to_csv_format():\n",
    "    stations = os.listdir('./data')\n",
    "    for station in stations:\n",
    "        print(station)\n",
    "        dates = os.listdir('./data/' + station)\n",
    "        for date in dates:\n",
    "            try:\n",
    "                df = pd.read_csv('./data/' + station + '/' + date, delim_whitespace=1,header=None)\n",
    "                df.to_csv('./data/' + station + '/' + date,header = None,index=None)\n",
    "            except:\n",
    "                for i in np.arange(1,31,1):\n",
    "                    try:\n",
    "                        df = pd.read_csv('./data/' + station + '/' + date, skiprows=i, \n",
    "                                         delim_whitespace=1,header=None)\n",
    "                        df.to_csv('./data/' + station + '/' + date,header = None,index=None)\n",
    "                        break\n",
    "                    except:\n",
    "                        print('complete failure', date)"
   ]
  },
  {
   "cell_type": "code",
   "execution_count": 30,
   "metadata": {
    "collapsed": true
   },
   "outputs": [],
   "source": [
    "def add_header_to_all():\n",
    "    default_header = pd.read_csv('data_header.txt',header=None)[0].values\n",
    "    stations = os.listdir('./data')\n",
    "    for station in stations:\n",
    "        print(station)\n",
    "        dates = os.listdir('./data/' + station)\n",
    "        for date in dates:\n",
    "            df = pd.read_csv('./data/' + station + '/' + date, header=None)\n",
    "            df.to_csv('./data/' + station + '/' + date,header = default_header,index=None)"
   ]
  },
  {
   "cell_type": "code",
   "execution_count": 105,
   "metadata": {
    "collapsed": true
   },
   "outputs": [],
   "source": [
    "def add_complete_dates_location_station(location_geo='crete'):\n",
    "    stations = os.listdir('./data')\n",
    "    for station in stations:\n",
    "        print(station)\n",
    "        dates = os.listdir('./data/' + station)\n",
    "        for date in dates:\n",
    "            data_df = pd.read_csv('./data/' + station + '/' + date)\n",
    "            empty_dfs = pd.DataFrame(np.zeros((data_df.shape[0],2)))\n",
    "            data_df = pd.concat([empty_dfs, data_df], axis = 1)\n",
    "            \n",
    "            data_df.columns = ['location', 'station'] + list(data_df.columns.values)[2:]  # just change two first two \n",
    "            data_df['location'] = location_geo\n",
    "            data_df['station'] = station\n",
    "            \n",
    "            for i, day in enumerate(data_df['day']):\n",
    "                if len(str(data_df['day'][i])) == 1:\n",
    "                    data_df['day'][i] = date[-11:-4]+'-0'+str(data_df['day'][i])\n",
    "                else:\n",
    "                    data_df['day'][i] = date[-11:-4]+'-'+str(data_df['day'][i])    \n",
    "            data_df.to_csv('./data/' + station + '/' + date, index=None)"
   ]
  },
  {
   "cell_type": "code",
   "execution_count": 106,
   "metadata": {
    "collapsed": false
   },
   "outputs": [
    {
     "name": "stderr",
     "output_type": "stream",
     "text": [
      "/Users/georgepamfilis/anaconda/lib/python3.4/site-packages/ipykernel/__main__.py:17: SettingWithCopyWarning: \n",
      "A value is trying to be set on a copy of a slice from a DataFrame\n",
      "\n",
      "See the the caveats in the documentation: http://pandas.pydata.org/pandas-docs/stable/indexing.html#indexing-view-versus-copy\n",
      "/Users/georgepamfilis/anaconda/lib/python3.4/site-packages/pandas/core/indexing.py:115: SettingWithCopyWarning: \n",
      "A value is trying to be set on a copy of a slice from a DataFrame\n",
      "\n",
      "See the the caveats in the documentation: http://pandas.pydata.org/pandas-docs/stable/indexing.html#indexing-view-versus-copy\n",
      "  self._setitem_with_indexer(indexer, value)\n",
      "/Users/georgepamfilis/anaconda/lib/python3.4/site-packages/ipykernel/__main__.py:19: SettingWithCopyWarning: \n",
      "A value is trying to be set on a copy of a slice from a DataFrame\n",
      "\n",
      "See the the caveats in the documentation: http://pandas.pydata.org/pandas-docs/stable/indexing.html#indexing-view-versus-copy\n"
     ]
    },
    {
     "name": "stdout",
     "output_type": "stream",
     "text": [
      "aghiosnikolaos\n",
      "alikianos\n",
      "anogeia\n",
      "askyfou\n"
     ]
    }
   ],
   "source": [
    "add_complete_dates_location_station()"
   ]
  },
  {
   "cell_type": "code",
   "execution_count": null,
   "metadata": {
    "collapsed": true
   },
   "outputs": [],
   "source": []
  },
  {
   "cell_type": "code",
   "execution_count": null,
   "metadata": {
    "collapsed": true
   },
   "outputs": [],
   "source": []
  },
  {
   "cell_type": "code",
   "execution_count": null,
   "metadata": {
    "collapsed": true
   },
   "outputs": [],
   "source": []
  }
 ],
 "metadata": {
  "kernelspec": {
   "display_name": "Python 3",
   "language": "python",
   "name": "python3"
  },
  "language_info": {
   "codemirror_mode": {
    "name": "ipython",
    "version": 3
   },
   "file_extension": ".py",
   "mimetype": "text/x-python",
   "name": "python",
   "nbconvert_exporter": "python",
   "pygments_lexer": "ipython3",
   "version": "3.4.3"
  }
 },
 "nbformat": 4,
 "nbformat_minor": 0
}
